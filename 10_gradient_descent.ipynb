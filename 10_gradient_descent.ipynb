{
  "nbformat": 4,
  "nbformat_minor": 0,
  "metadata": {
    "colab": {
      "name": "10-gradient-descent.ipynb",
      "provenance": [],
      "collapsed_sections": [],
      "machine_shape": "hm"
    },
    "kernelspec": {
      "name": "python3",
      "display_name": "Python 3"
    },
    "accelerator": "GPU"
  },
  "cells": [
    {
      "cell_type": "markdown",
      "metadata": {
        "id": "6rG--QJVBXDW",
        "colab_type": "text"
      },
      "source": [
        "# Introduction\n",
        "\n",
        "In the project, our goal is to utilize modeling and algorithms to identify the facial expressions of people, so as to classify and organize them. Facial expression recognition is a very important and necessary link in the development of AI. Social security systems, mobile payment facial recognition systems, car autopilot character recognition systems and robotic service systems, among many other aspects of people’s lives, will use facial expression recognition knowledge and technology. Furthermore, recognizing facial expressions requires humans to have very complex logical thinking and a certain degree of familiarity. The cost of these identifications is considerable. If AI can identify facial expressions more accurately and quickly with specific frameworks and sophisticated algorithms, then computers will be able to record, store and analyze facial images on a large scale at low cost, greatly accelerating social development."
      ]
    },
    {
      "cell_type": "markdown",
      "metadata": {
        "id": "i740IwdWB9P3",
        "colab_type": "text"
      },
      "source": [
        "# Related Work\n",
        "\n",
        "The related works explore multiple different steps into thinking about how well neural networks work and what different concepts they can be helpful in.  One of those fields consist of microexpressions of and how well neural networks can detect emotion from very little facial expression at all.  They used a Dual Temporal Scale Convolutional Neural Network.  Others aimed to test same datasets using different number of epochs to find the test errors with each.  There was also an attempt to use very specific datasets of which would more likely give better results given the fact that you’re talking about similar items in a dataset.  Such as all-female or all male or a group with similar patterns with expressions.  Another aimed to get best method from one dataset and used on different datasets to see if the method was good for more data than just within the one dataset which is what would make it useful.  In another experiment author’s used multiple different methods of data augmentation for classifying dogs and cats such as GANS and neural loss.  This can also apply to how the computer will see some facial expressions as visually similar.  These are all different ways to approach future work in the field to help design \n",
        "\n",
        "http://people.idsia.ch/~juergen/ijcai2011.pdf"
      ]
    },
    {
      "cell_type": "markdown",
      "metadata": {
        "id": "NVO-NLTnxux0",
        "colab_type": "text"
      },
      "source": [
        "# Data"
      ]
    },
    {
      "cell_type": "markdown",
      "metadata": {
        "id": "P0Z602d3qEyF",
        "colab_type": "text"
      },
      "source": [
        "The dataset was obtained from a facial expression recognition challenge in kaggle. It consists of two variables: “emotion” and “pixels”. Each \"pixels\" value was converted to a 48x48x1 numpy array in order to predict \"emotion\" as an input to a convolutional neural network. \n",
        "\n",
        "Variables:\n",
        "- \"emotion\" (#s in 0-6)\n",
        "- \"pixels\" (48x48x1 3D arrays)\n",
        "\n",
        "\n",
        " Data was also normalized and augmented to boost model performance. All data was normalized by dividing pixel values by 255. Augmentation techniques -- flipping, rotating, padding, and re-cropping the images -- were applied to 200 random samples of the training data. \n",
        "\n",
        "  Final dataset:\n",
        "  - **total (36,087)**\n",
        "  - training (28,909)\n",
        "  - validation (3,589)\n",
        "  - testing (3,589) \n",
        "\n",
        "\n",
        "dataset:  https://www.kaggle.com/c/challenges-in-representation-learning-facial-expression-recognition-challenge/data"
      ]
    },
    {
      "cell_type": "code",
      "metadata": {
        "id": "FyhzhtivIqdN",
        "colab_type": "code",
        "outputId": "4692f7cd-9fba-4bd1-e78c-f341fe44e781",
        "colab": {
          "base_uri": "https://localhost:8080/",
          "height": 122
        }
      },
      "source": [
        "# Load the Drive helper and mount\n",
        "from google.colab import drive\n",
        "\n",
        "# This will prompt for authorization.\n",
        "drive.mount('/content/drive')"
      ],
      "execution_count": 0,
      "outputs": [
        {
          "output_type": "stream",
          "text": [
            "Go to this URL in a browser: https://accounts.google.com/o/oauth2/auth?client_id=947318989803-6bn6qk8qdgf4n4g3pfee6491hc0brc4i.apps.googleusercontent.com&redirect_uri=urn%3aietf%3awg%3aoauth%3a2.0%3aoob&response_type=code&scope=email%20https%3a%2f%2fwww.googleapis.com%2fauth%2fdocs.test%20https%3a%2f%2fwww.googleapis.com%2fauth%2fdrive%20https%3a%2f%2fwww.googleapis.com%2fauth%2fdrive.photos.readonly%20https%3a%2f%2fwww.googleapis.com%2fauth%2fpeopleapi.readonly\n",
            "\n",
            "Enter your authorization code:\n",
            "··········\n",
            "Mounted at /content/drive\n"
          ],
          "name": "stdout"
        }
      ]
    },
    {
      "cell_type": "code",
      "metadata": {
        "id": "HEjeDmFHzJIj",
        "colab_type": "code",
        "outputId": "2b07b159-d370-416b-d51d-68ac3de5fbdd",
        "colab": {
          "base_uri": "https://localhost:8080/",
          "height": 36
        }
      },
      "source": [
        "28909 + 3589 + 3589"
      ],
      "execution_count": 0,
      "outputs": [
        {
          "output_type": "execute_result",
          "data": {
            "text/plain": [
              "36087"
            ]
          },
          "metadata": {
            "tags": []
          },
          "execution_count": 1
        }
      ]
    },
    {
      "cell_type": "code",
      "metadata": {
        "id": "CzwiyoOAUg8S",
        "colab_type": "code",
        "colab": {}
      },
      "source": [
        "import pandas as pd\n",
        "import numpy as np\n",
        "import tensorflow as tf\n",
        "\n",
        "\n",
        "# read in data\n",
        "data = pd.read_csv(\"/content/drive/My Drive/Colab Notebooks/fer2013.csv\")\n",
        "\n",
        "# split data\n",
        "train = data[data.Usage == 'Training']\n",
        "val = data[data.Usage == 'PublicTest']\n",
        "test = data[data.Usage == 'PrivateTest']\n",
        "\n",
        "\n",
        "# Change Y to one hot encoding  \n",
        "def convert_emotion_to_one_hot(data):\n",
        "\n",
        "    y = data[\"emotion\"].values.ravel()    # flatten y\n",
        "    num_classes = np.unique(y).shape[0]\n",
        "    num_y = y.shape[0]\n",
        "    index_offset = np.arange(num_y) * num_classes\n",
        "    labels_one_hot = np.zeros((num_y, num_classes))\n",
        "    labels_one_hot.flat[[index_offset + y.ravel()]] = 1\n",
        "\n",
        "    return labels_one_hot\n",
        "\n",
        "# Labels for classes\n",
        "emotion_labels = [\"Angry\", \"Disgust\", \"Fear\", \"Happy\", \"Sad\", \"Surprise\", \"Neutral\"]\n",
        "\n",
        "# create output data\n",
        "y_train = convert_emotion_to_one_hot(train)\n",
        "y_val = convert_emotion_to_one_hot(val)\n",
        "y_test = convert_emotion_to_one_hot(test)\n",
        "\n",
        "# number of classes in output\n",
        "y = data[\"emotion\"].values.ravel()    # flatten y\n",
        "num_classes = np.unique(y).shape[0]\n",
        "\n",
        "# change X to workable data\n",
        "def convert_pixels_to_images(data, image_size):\n",
        "\n",
        "  pixels_values = data.pixels.str.split(\" \").tolist()\n",
        "  pixels_values = pd.DataFrame(pixels_values, dtype=int)\n",
        "\n",
        "  images = pixels_values.values\n",
        "  images = images.astype(np.float)\n",
        "  images = images.reshape(images.shape[0], image_size, image_size, 1)\n",
        "  images = images.astype('float32')\n",
        "\n",
        "  return images\n",
        "\n",
        "# create input data\n",
        "image_size = 48\n",
        "X_train = convert_pixels_to_images(train, image_size=image_size)     #images are 48*48\n",
        "X_val = convert_pixels_to_images(val, image_size=image_size)         #images are 48*48\n",
        "X_test = convert_pixels_to_images(test, image_size=image_size)       #images are 48*48\n",
        "\n",
        "\n",
        "\n",
        "\"\"\"DATA AUGMENTATION (TRAINING DATA)\"\"\"\n",
        "\n",
        "# select 200 random training images for augmentation\n",
        "num_rand = 200\n",
        "np.random.seed(42)\n",
        "rand = list(np.random.randint(0, len(X_train), num_rand))\n",
        "images_aug = X_train[rand]\n",
        "\n",
        "# create augmentation function\n",
        "def augment(image):\n",
        "  image = tf.image.convert_image_dtype(image, tf.float32) # Cast and normalize the image to [0,1]\n",
        "  image = tf.image.resize_with_crop_or_pad(image, image_size + 6, image_size + 6) # Add 6 pixels of padding\n",
        "  image = tf.image.random_crop(image,size=[image_size, image_size, 1])             \n",
        "  image = tf.image.random_flip_left_right(image)\n",
        "  return image\n",
        "\n",
        "# augment randomly selected training images images\n",
        "for image in range(len(images_aug)):\n",
        "  images_aug[image] = augment(images_aug[image])\n",
        "\n",
        "# combine augmented data with training data\n",
        "X_train = np.vstack((X_train, images_aug))\n",
        "y_train = np.vstack((y_train, y_train[rand]))\n",
        "\n",
        "\n",
        "\"\"\"DATA NORMALIZATION\"\"\"\n",
        "\n",
        "X_train /= 255\n",
        "X_val /= 255\n",
        "X_test /= 255\n"
      ],
      "execution_count": 0,
      "outputs": []
    },
    {
      "cell_type": "code",
      "metadata": {
        "id": "3X7gGt6gO9Kn",
        "colab_type": "code",
        "outputId": "23355c8f-6e21-41b8-eade-b8da98de97e6",
        "colab": {
          "base_uri": "https://localhost:8080/",
          "height": 266
        }
      },
      "source": [
        "df = pd.concat([data.emotion.value_counts(), data.emotion.value_counts(normalize=True)], axis = 1)\n",
        "df.columns = ['Number of Observations','Percentage']\n",
        "df\n",
        "#0 = \"Angry\" 1 =  \"Disgust\" 2 =  \"Fear\" 3 =\"Happy\" 4 = \"Sad\" 5 = \"Surprise\" 6 = \"Neutral\""
      ],
      "execution_count": 0,
      "outputs": [
        {
          "output_type": "execute_result",
          "data": {
            "text/html": [
              "<div>\n",
              "<style scoped>\n",
              "    .dataframe tbody tr th:only-of-type {\n",
              "        vertical-align: middle;\n",
              "    }\n",
              "\n",
              "    .dataframe tbody tr th {\n",
              "        vertical-align: top;\n",
              "    }\n",
              "\n",
              "    .dataframe thead th {\n",
              "        text-align: right;\n",
              "    }\n",
              "</style>\n",
              "<table border=\"1\" class=\"dataframe\">\n",
              "  <thead>\n",
              "    <tr style=\"text-align: right;\">\n",
              "      <th></th>\n",
              "      <th>Number of Observations</th>\n",
              "      <th>Percentage</th>\n",
              "    </tr>\n",
              "  </thead>\n",
              "  <tbody>\n",
              "    <tr>\n",
              "      <th>3</th>\n",
              "      <td>8989</td>\n",
              "      <td>0.250481</td>\n",
              "    </tr>\n",
              "    <tr>\n",
              "      <th>6</th>\n",
              "      <td>6198</td>\n",
              "      <td>0.172709</td>\n",
              "    </tr>\n",
              "    <tr>\n",
              "      <th>4</th>\n",
              "      <td>6077</td>\n",
              "      <td>0.169337</td>\n",
              "    </tr>\n",
              "    <tr>\n",
              "      <th>2</th>\n",
              "      <td>5121</td>\n",
              "      <td>0.142698</td>\n",
              "    </tr>\n",
              "    <tr>\n",
              "      <th>0</th>\n",
              "      <td>4953</td>\n",
              "      <td>0.138017</td>\n",
              "    </tr>\n",
              "    <tr>\n",
              "      <th>5</th>\n",
              "      <td>4002</td>\n",
              "      <td>0.111517</td>\n",
              "    </tr>\n",
              "    <tr>\n",
              "      <th>1</th>\n",
              "      <td>547</td>\n",
              "      <td>0.015242</td>\n",
              "    </tr>\n",
              "  </tbody>\n",
              "</table>\n",
              "</div>"
            ],
            "text/plain": [
              "   Number of Observations  Percentage\n",
              "3                    8989    0.250481\n",
              "6                    6198    0.172709\n",
              "4                    6077    0.169337\n",
              "2                    5121    0.142698\n",
              "0                    4953    0.138017\n",
              "5                    4002    0.111517\n",
              "1                     547    0.015242"
            ]
          },
          "metadata": {
            "tags": []
          },
          "execution_count": 14
        }
      ]
    },
    {
      "cell_type": "markdown",
      "metadata": {
        "id": "YAG5l3frChVy",
        "colab_type": "text"
      },
      "source": [
        "Example of Data"
      ]
    },
    {
      "cell_type": "code",
      "metadata": {
        "id": "sIi8UAhkJDlt",
        "colab_type": "code",
        "outputId": "96bdad94-6f38-4533-903c-7beb9680dbde",
        "colab": {
          "base_uri": "https://localhost:8080/",
          "height": 267
        }
      },
      "source": [
        "import matplotlib.pyplot as plt\n",
        "\n",
        "example = X_val[7, :]\n",
        "example = example.reshape(48, 48)\n",
        "plt.imshow(example,cmap='gray')\n",
        "plt.show()"
      ],
      "execution_count": 0,
      "outputs": [
        {
          "output_type": "display_data",
          "data": {
            "image/png": "[encoded data removed]",
            "text/plain": [
              "<Figure size 432x288 with 1 Axes>"
            ]
          },
          "metadata": {
            "tags": [],
            "needs_background": "light"
          }
        }
      ]
    },
    {
      "cell_type": "markdown",
      "metadata": {
        "id": "zdK21PPJCkPd",
        "colab_type": "text"
      },
      "source": [
        "Example of Augmented Data"
      ]
    },
    {
      "cell_type": "code",
      "metadata": {
        "id": "T27mYbXxbXb6",
        "colab_type": "code",
        "outputId": "14c9555a-69c3-4489-e98d-5059faac7d1a",
        "colab": {
          "base_uri": "https://localhost:8080/",
          "height": 267
        }
      },
      "source": [
        "import matplotlib.pyplot as plt\n",
        "\n",
        "example = images_aug[14, :]\n",
        "example = example.reshape(48, 48)\n",
        "plt.imshow(example,cmap='gray')\n",
        "plt.show()"
      ],
      "execution_count": 0,
      "outputs": [
        {
          "output_type": "display_data",
          "data": {
            "image/png": "[encoded data removed]",
            "text/plain": [
              "<Figure size 432x288 with 1 Axes>"
            ]
          },
          "metadata": {
            "tags": [],
            "needs_background": "light"
          }
        }
      ]
    },
    {
      "cell_type": "markdown",
      "metadata": {
        "id": "yvUg4BlPB92_",
        "colab_type": "text"
      },
      "source": [
        "# Methods"
      ]
    },
    {
      "cell_type": "markdown",
      "metadata": {
        "id": "LNnyoc0zhAFE",
        "colab_type": "text"
      },
      "source": [
        "  We based our initial model off of VGG19, and then tuned hyperparameters and customized layers according to our model's performance. \n",
        "\n",
        "The convolutional neural network of our choice is defined below, where:\n",
        "-\tConv2: N-M (N = height and width of filter, M = number of neurons, ReLU activation)\n",
        "-\tMaxpool: P (P = height and width of pooling filter)\n",
        "-\tDropout: D (D= proportion of dropped neurons)\n",
        "-\tFC: F (F = number of neurons, ReLU activation)\n",
        "\n",
        "number of layers:\n",
        "- conv: 5\n",
        "- FC: 1\n",
        "- softmax: 1\n",
        "\n",
        "-------------\n",
        "\n",
        "**layers** \n",
        "\n",
        "--------------\n",
        "Input\n",
        "\n",
        "48 x 48 grayscale image\n",
        "\n",
        "Conv2: 3-64\n",
        "\n",
        "Maxpool: 2\n",
        "\n",
        "Dropout: 0.2\n",
        "\n",
        "Conv2: 3-128\n",
        "\n",
        "Conv2: 3-128\n",
        "\n",
        "Maxpool: 2\n",
        "\n",
        "Dropout: 0.2\n",
        "\n",
        "Conv2: 3-256\n",
        "\n",
        "Conv2: 3-256\n",
        "\n",
        "Maxpool: 2\n",
        "\n",
        "Dropout: 0.2\n",
        "\n",
        "FC: 1000\n",
        "\n",
        "Dropout: 0.3\n",
        "\n",
        "Soft-max\n",
        "\n",
        "--------------\n",
        "\n",
        "Number of parameters: ~ 10 million\n",
        "\n",
        "-------------\n",
        "\n",
        "Tuning hyperparameters:\n",
        "- Paddings: to maintain the same output dimensions as the  input dimensions for all convolutional layers. \n",
        "- Dropout: (0.2) regularize the model and prevent overfitting\n",
        "- loss function: categorical cross-entropy  \n",
        "- optimization: RMSprop (learning rate of 5e-5)\n",
        "- activation: ReLU\n",
        "\n",
        "\n",
        "\n",
        "\n",
        "\n",
        "\n",
        "\n",
        "VGG19 architecture: https://arxiv.org/pdf/1409.1556.pdf#page=3 "
      ]
    },
    {
      "cell_type": "code",
      "metadata": {
        "id": "_Cfgdq6e-8eK",
        "colab_type": "code",
        "outputId": "304cdd5b-08ea-463e-baee-1078c0dec984",
        "colab": {
          "base_uri": "https://localhost:8080/",
          "height": 717
        }
      },
      "source": [
        "#Simplier VGG19 \n",
        "\n",
        "from tensorflow.keras import layers, models\n",
        "model = models.Sequential()\n",
        "model.add(layers.Conv2D(64, (3, 3), padding = \"same\", activation='relu', input_shape = (48,48,1)))\n",
        "model.add(layers.Conv2D(64, (3, 3), padding = \"same\",activation='relu'))\n",
        "model.add(layers.MaxPooling2D((2, 2)))\n",
        "model.add(layers.Dropout(0.2))\n",
        "model.add(layers.Conv2D(128, (3, 3), padding = \"same\",activation='relu'))\n",
        "model.add(layers.Conv2D(128, (3, 3), padding = \"same\",activation='relu'))\n",
        "model.add(layers.MaxPooling2D((2, 2)))\n",
        "model.add(layers.Dropout(0.2))\n",
        "model.add(layers.Conv2D(256, (3, 3), padding = \"same\",activation='relu'))\n",
        "model.add(layers.Conv2D(256, (3, 3), padding = \"same\",activation='relu'))\n",
        "model.add(layers.MaxPooling2D((2, 2)))\n",
        "model.add(layers.Dropout(0.2))\n",
        "model.add(layers.Flatten())\n",
        "model.add(layers.Dense(1000, activation='relu'))\n",
        "model.add(layers.Dropout(0.3))\n",
        "model.add(layers.Dense(num_classes, activation='softmax'))\n",
        "\n",
        "model.compile(loss='categorical_crossentropy',\n",
        "              optimizer=tf.keras.optimizers.RMSprop(lr=5e-5, rho=0.9, epsilon=1e-08, decay=0.0),\n",
        "              metrics=['accuracy'])\n",
        "vgg_model2 = model.fit(X_train,y_train, epochs=20, \n",
        "                    validation_data=(X_test, y_test))"
      ],
      "execution_count": 0,
      "outputs": [
        {
          "output_type": "stream",
          "text": [
            "Epoch 1/20\n",
            "904/904 [==============================] - 42s 46ms/step - loss: 1.7625 - accuracy: 0.2827 - val_loss: 1.6395 - val_accuracy: 0.3801\n",
            "Epoch 2/20\n",
            "904/904 [==============================] - 41s 45ms/step - loss: 1.5789 - accuracy: 0.3916 - val_loss: 1.4865 - val_accuracy: 0.4257\n",
            "Epoch 3/20\n",
            "904/904 [==============================] - 41s 45ms/step - loss: 1.4688 - accuracy: 0.4371 - val_loss: 1.4436 - val_accuracy: 0.4525\n",
            "Epoch 4/20\n",
            "904/904 [==============================] - 41s 46ms/step - loss: 1.3921 - accuracy: 0.4714 - val_loss: 1.3702 - val_accuracy: 0.4823\n",
            "Epoch 5/20\n",
            "904/904 [==============================] - 41s 45ms/step - loss: 1.3242 - accuracy: 0.4986 - val_loss: 1.3320 - val_accuracy: 0.4923\n",
            "Epoch 6/20\n",
            "904/904 [==============================] - 41s 45ms/step - loss: 1.2638 - accuracy: 0.5260 - val_loss: 1.2598 - val_accuracy: 0.5302\n",
            "Epoch 7/20\n",
            "904/904 [==============================] - 41s 45ms/step - loss: 1.2148 - accuracy: 0.5423 - val_loss: 1.2482 - val_accuracy: 0.5247\n",
            "Epoch 8/20\n",
            "904/904 [==============================] - 41s 45ms/step - loss: 1.1698 - accuracy: 0.5638 - val_loss: 1.1973 - val_accuracy: 0.5430\n",
            "Epoch 9/20\n",
            "904/904 [==============================] - 41s 45ms/step - loss: 1.1266 - accuracy: 0.5805 - val_loss: 1.1849 - val_accuracy: 0.5522\n",
            "Epoch 10/20\n",
            "904/904 [==============================] - 41s 45ms/step - loss: 1.0870 - accuracy: 0.5938 - val_loss: 1.1652 - val_accuracy: 0.5589\n",
            "Epoch 11/20\n",
            "904/904 [==============================] - 41s 45ms/step - loss: 1.0497 - accuracy: 0.6132 - val_loss: 1.1619 - val_accuracy: 0.5634\n",
            "Epoch 12/20\n",
            "904/904 [==============================] - 41s 45ms/step - loss: 1.0127 - accuracy: 0.6261 - val_loss: 1.1584 - val_accuracy: 0.5734\n",
            "Epoch 13/20\n",
            "904/904 [==============================] - 41s 45ms/step - loss: 0.9817 - accuracy: 0.6410 - val_loss: 1.1348 - val_accuracy: 0.5854\n",
            "Epoch 14/20\n",
            "904/904 [==============================] - 41s 45ms/step - loss: 0.9436 - accuracy: 0.6555 - val_loss: 1.1410 - val_accuracy: 0.5726\n",
            "Epoch 15/20\n",
            "904/904 [==============================] - 41s 45ms/step - loss: 0.9106 - accuracy: 0.6645 - val_loss: 1.1988 - val_accuracy: 0.5556\n",
            "Epoch 16/20\n",
            "904/904 [==============================] - 41s 45ms/step - loss: 0.8783 - accuracy: 0.6829 - val_loss: 1.2233 - val_accuracy: 0.5717\n",
            "Epoch 17/20\n",
            "904/904 [==============================] - 40s 45ms/step - loss: 0.8467 - accuracy: 0.6964 - val_loss: 1.1245 - val_accuracy: 0.5885\n",
            "Epoch 18/20\n",
            "904/904 [==============================] - 41s 45ms/step - loss: 0.8118 - accuracy: 0.7084 - val_loss: 1.1133 - val_accuracy: 0.5952\n",
            "Epoch 19/20\n",
            "904/904 [==============================] - 41s 45ms/step - loss: 0.7794 - accuracy: 0.7190 - val_loss: 1.1722 - val_accuracy: 0.5868\n",
            "Epoch 20/20\n",
            "904/904 [==============================] - 41s 45ms/step - loss: 0.7490 - accuracy: 0.7303 - val_loss: 1.2072 - val_accuracy: 0.5977\n"
          ],
          "name": "stdout"
        }
      ]
    },
    {
      "cell_type": "code",
      "metadata": {
        "id": "Z7nRx9oMGP9x",
        "colab_type": "code",
        "outputId": "33940d57-1183-4834-ff69-24d4d362b2d9",
        "colab": {
          "base_uri": "https://localhost:8080/",
          "height": 697
        }
      },
      "source": [
        "model.summary()"
      ],
      "execution_count": 0,
      "outputs": [
        {
          "output_type": "stream",
          "text": [
            "Model: \"sequential\"\n",
            "_________________________________________________________________\n",
            "Layer (type)                 Output Shape              Param #   \n",
            "=================================================================\n",
            "conv2d (Conv2D)              (None, 48, 48, 64)        640       \n",
            "_________________________________________________________________\n",
            "conv2d_1 (Conv2D)            (None, 48, 48, 64)        36928     \n",
            "_________________________________________________________________\n",
            "max_pooling2d (MaxPooling2D) (None, 24, 24, 64)        0         \n",
            "_________________________________________________________________\n",
            "dropout (Dropout)            (None, 24, 24, 64)        0         \n",
            "_________________________________________________________________\n",
            "conv2d_2 (Conv2D)            (None, 24, 24, 128)       73856     \n",
            "_________________________________________________________________\n",
            "conv2d_3 (Conv2D)            (None, 24, 24, 128)       147584    \n",
            "_________________________________________________________________\n",
            "max_pooling2d_1 (MaxPooling2 (None, 12, 12, 128)       0         \n",
            "_________________________________________________________________\n",
            "dropout_1 (Dropout)          (None, 12, 12, 128)       0         \n",
            "_________________________________________________________________\n",
            "conv2d_4 (Conv2D)            (None, 12, 12, 256)       295168    \n",
            "_________________________________________________________________\n",
            "conv2d_5 (Conv2D)            (None, 12, 12, 256)       590080    \n",
            "_________________________________________________________________\n",
            "max_pooling2d_2 (MaxPooling2 (None, 6, 6, 256)         0         \n",
            "_________________________________________________________________\n",
            "dropout_2 (Dropout)          (None, 6, 6, 256)         0         \n",
            "_________________________________________________________________\n",
            "flatten (Flatten)            (None, 9216)              0         \n",
            "_________________________________________________________________\n",
            "dense (Dense)                (None, 1000)              9217000   \n",
            "_________________________________________________________________\n",
            "dropout_3 (Dropout)          (None, 1000)              0         \n",
            "_________________________________________________________________\n",
            "dense_1 (Dense)              (None, 7)                 7007      \n",
            "=================================================================\n",
            "Total params: 10,368,263\n",
            "Trainable params: 10,368,263\n",
            "Non-trainable params: 0\n",
            "_________________________________________________________________\n"
          ],
          "name": "stdout"
        }
      ]
    },
    {
      "cell_type": "markdown",
      "metadata": {
        "id": "G2w3WLQyf_aC",
        "colab_type": "text"
      },
      "source": [
        "# Results\n",
        "Training graphs"
      ]
    },
    {
      "cell_type": "code",
      "metadata": {
        "id": "iTVezpR95l6q",
        "colab_type": "code",
        "outputId": "88617678-8753-4406-b62a-516f8faf27c2",
        "colab": {
          "base_uri": "https://localhost:8080/",
          "height": 312
        }
      },
      "source": [
        "import matplotlib.pyplot as plt\n",
        "plt.plot(vgg_model2.history['accuracy'], label='Train_accuracy')\n",
        "plt.plot(vgg_model2.history['val_accuracy'], label = 'Test_accuracy')\n",
        "plt.xlabel('Epoch')\n",
        "plt.ylabel('Accuracy')\n",
        "plt.title(\"Accuracy Vs Epoch\")\n",
        "plt.ylim([0, 1])\n",
        "plt.legend(loc='lower right')"
      ],
      "execution_count": 0,
      "outputs": [
        {
          "output_type": "execute_result",
          "data": {
            "text/plain": [
              "<matplotlib.legend.Legend at 0x7f02b084bb70>"
            ]
          },
          "metadata": {
            "tags": []
          },
          "execution_count": 7
        },
        {
          "output_type": "display_data",
          "data": {
            "image/png": "[encoded data removed]",
            "text/plain": [
              "<Figure size 432x288 with 1 Axes>"
            ]
          },
          "metadata": {
            "tags": [],
            "needs_background": "light"
          }
        }
      ]
    },
    {
      "cell_type": "markdown",
      "metadata": {
        "id": "HbkDQn-yssud",
        "colab_type": "text"
      },
      "source": [
        "After running the model for 20 epoches,the train accuracy is at about 73%. The Test accuracy is at approximately 60%. We adjusted for issues with overfitting. The model is working correctly."
      ]
    },
    {
      "cell_type": "code",
      "metadata": {
        "id": "O5TqDR2Y5t0O",
        "colab_type": "code",
        "outputId": "cf3edd06-a4b7-42f1-ce80-868078d18b2c",
        "colab": {
          "base_uri": "https://localhost:8080/",
          "height": 295
        }
      },
      "source": [
        "plt.plot(vgg_model2.history['loss'])\n",
        "plt.plot(vgg_model2.history['val_loss'])\n",
        "plt.title('Model Loss')\n",
        "plt.ylabel('Loss')\n",
        "plt.xlabel('Epoch')\n",
        "plt.ylim(0,2)\n",
        "plt.legend(['Train', 'Test'], loc='upper left')\n",
        "plt.show()"
      ],
      "execution_count": 0,
      "outputs": [
        {
          "output_type": "display_data",
          "data": {
            "image/png": "[encoded data removed]",
            "text/plain": [
              "<Figure size 432x288 with 1 Axes>"
            ]
          },
          "metadata": {
            "tags": [],
            "needs_background": "light"
          }
        }
      ]
    },
    {
      "cell_type": "markdown",
      "metadata": {
        "id": "-ZTA5Qnksyqw",
        "colab_type": "text"
      },
      "source": [
        "Both the Test and the Train data have a loss of about 1.75 at the start. But, by the end of 20 epochs, the train has a loss of .72 while the test’s loss plateaus at about 1.15. The cost function decreases at a higher rate for the train data after epoch 5."
      ]
    },
    {
      "cell_type": "markdown",
      "metadata": {
        "id": "_yDYDIMIgUaw",
        "colab_type": "text"
      },
      "source": [
        "Summary tables:"
      ]
    },
    {
      "cell_type": "markdown",
      "metadata": {
        "id": "EPe3e-CUge-t",
        "colab_type": "text"
      },
      "source": [
        "Overall Accuracy: 59.77%"
      ]
    },
    {
      "cell_type": "code",
      "metadata": {
        "id": "T3bvL1ICXNj7",
        "colab_type": "code",
        "outputId": "27adbe8e-8285-4180-b159-53d2cfb06840",
        "colab": {
          "base_uri": "https://localhost:8080/",
          "height": 51
        }
      },
      "source": [
        "scores = model.evaluate(X_test, y_test)\n",
        "(model.metrics_names[1], scores[1]*100)"
      ],
      "execution_count": 0,
      "outputs": [
        {
          "output_type": "stream",
          "text": [
            "113/113 [==============================] - 2s 13ms/step - loss: 1.2072 - accuracy: 0.5977\n"
          ],
          "name": "stdout"
        },
        {
          "output_type": "execute_result",
          "data": {
            "text/plain": [
              "('accuracy', 59.765952825546265)"
            ]
          },
          "metadata": {
            "tags": []
          },
          "execution_count": 4
        }
      ]
    },
    {
      "cell_type": "code",
      "metadata": {
        "id": "VByBi4S4da0f",
        "colab_type": "code",
        "outputId": "a1aa939b-39bb-4e56-ef29-36ef03ca89a6",
        "colab": {
          "base_uri": "https://localhost:8080/",
          "height": 672
        }
      },
      "source": [
        "import matplotlib.pyplot as plt\n",
        "\n",
        "y_pred = model.predict_classes(X_test)\n",
        "y_true = np.asarray([np.argmax(i) for i in y_test])\n",
        "\n",
        "from sklearn.metrics import confusion_matrix\n",
        "import seaborn as sns\n",
        "\n",
        "cm = confusion_matrix(y_true, y_pred)\n",
        "cm_percent = cm.astype('float') / cm.sum(axis=1)[:, np.newaxis] \n",
        "ax = plt.subplots(figsize=(10,10))\n",
        "ax = sns.heatmap(cm_percent, annot=True, yticklabels=emotion_labels, xticklabels=emotion_labels, vmax=np.max(cm_percent),fmt=\".2f\",cmap=\"Greens\")\n",
        "ax.set(xlabel='Predicted label', ylabel='True label',title ='Accuracy by Percentage for Emotions')"
      ],
      "execution_count": 0,
      "outputs": [
        {
          "output_type": "execute_result",
          "data": {
            "text/plain": [
              "[Text(69.0, 0.5, 'True label'),\n",
              " Text(0.5, 69.0, 'Predicted label'),\n",
              " Text(0.5, 1.0, 'Accuracy by Percentage for Emotions')]"
            ]
          },
          "metadata": {
            "tags": []
          },
          "execution_count": 13
        },
        {
          "output_type": "display_data",
          "data": {
            "image/png": "[encoded data removed]",
            "text/plain": [
              "<Figure size 720x720 with 2 Axes>"
            ]
          },
          "metadata": {
            "tags": [],
            "needs_background": "light"
          }
        }
      ]
    },
    {
      "cell_type": "markdown",
      "metadata": {
        "id": "Al0L1DbOCnvo",
        "colab_type": "text"
      },
      "source": [
        "# Discussion\n",
        "The Overall accuracy when using the validation data was 59.77%. As we can see from the confusion matrix below there were some emotions that were misclassified at higher rates than others. The True positive rate for the emotions is 80% happy,75% surprise,66% sad,45% angry,51% neutral, 36% disgust,and 33% for fear. Angry,neutral,fear,and disgust had lower accuracies than the model did on average. It is interesting that angry was  misclassified as disgust for only 1% of its observations but disgust was misclassified as angry for 35% of its observations. Angry,Fear,and Neutral were all most commonly misclassified as sad.\n",
        "\n"
      ]
    },
    {
      "cell_type": "markdown",
      "metadata": {
        "id": "TL5fTArnCoV-",
        "colab_type": "text"
      },
      "source": [
        "# Conclusion/ Future Work\n",
        "\n",
        "\n",
        "Data augmentation and adding drop out layers to the model was needed in order to fix the model's problem of overfitting. The overall accuracy of the model is about 60%.The model could be up or down sampled to adjust for the unbalance in the output data. This would help the model perform better. The model predicts some emotions better than others. So by balencing the data this should solve that problem. We could also see if performance would improve if we added more layers to the model so it could be more like a VGG-19 model.\n",
        "\n",
        "\n"
      ]
    }
  ]
}